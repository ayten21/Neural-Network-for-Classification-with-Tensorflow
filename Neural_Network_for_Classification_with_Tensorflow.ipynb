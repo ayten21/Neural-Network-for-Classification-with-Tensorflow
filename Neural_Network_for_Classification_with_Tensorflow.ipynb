{
  "nbformat": 4,
  "nbformat_minor": 0,
  "metadata": {
    "colab": {
      "name": "Neural Network for Classification with Tensorflow.ipynb",
      "provenance": [],
      "collapsed_sections": [],
      "authorship_tag": "ABX9TyM7trPeGqKaFaWhBacjuKZI",
      "include_colab_link": true
    },
    "kernelspec": {
      "name": "python3",
      "display_name": "Python 3"
    },
    "language_info": {
      "name": "python"
    },
    "accelerator": "GPU"
  },
  "cells": [
    {
      "cell_type": "markdown",
      "metadata": {
        "id": "view-in-github",
        "colab_type": "text"
      },
      "source": [
        "<a href=\"https://colab.research.google.com/github/ayten21/Neural-Network-for-Classification-with-Tensorflow/blob/main/Neural_Network_for_Classification_with_Tensorflow.ipynb\" target=\"_parent\"><img src=\"https://colab.research.google.com/assets/colab-badge.svg\" alt=\"Open In Colab\"/></a>"
      ]
    },
    {
      "cell_type": "code",
      "execution_count": null,
      "metadata": {
        "id": "BdvEFez5jCYh"
      },
      "outputs": [],
      "source": [
        "import numpy as np\n",
        "import pandas as pd\n",
        "import matplotlib.pyplot as plt\n",
        "import tensorflow as tf\n",
        "print(tf.__version__)"
      ]
    },
    {
      "cell_type": "code",
      "source": [
        "from sklearn.datasets import make_circles\n",
        "\n",
        "samples = 1000\n",
        "X, y = make_circles(samples,\n",
        "                    noise = 0.03,\n",
        "                    random_state = 42)"
      ],
      "metadata": {
        "id": "sTGhR0PajIVS"
      },
      "execution_count": null,
      "outputs": []
    },
    {
      "cell_type": "code",
      "source": [
        "print(X)\n",
        "print(y)"
      ],
      "metadata": {
        "id": "UucxYiDujKRN"
      },
      "execution_count": null,
      "outputs": []
    },
    {
      "cell_type": "code",
      "source": [
        "circle = pd.DataFrame({ 'X0' : X[:, 0], 'X1' : X[:, 1], 'label' : y})\n",
        "circle.head()"
      ],
      "metadata": {
        "id": "mDoGDDlWjQNj"
      },
      "execution_count": null,
      "outputs": []
    },
    {
      "cell_type": "code",
      "source": [
        "circle.label.value_counts()"
      ],
      "metadata": {
        "id": "_IXZsvPRjQHW"
      },
      "execution_count": null,
      "outputs": []
    },
    {
      "cell_type": "code",
      "source": [
        "plt.scatter(X[:,0], X[:,1], c = y, cmap = plt.cm.RdYlBu)"
      ],
      "metadata": {
        "id": "8YKBXGPNjU-J"
      },
      "execution_count": null,
      "outputs": []
    },
    {
      "cell_type": "code",
      "source": [
        "print(X.shape, y.shape)\n",
        "print(len(X), len(y))"
      ],
      "metadata": {
        "id": "9z9bIQebjY90"
      },
      "execution_count": null,
      "outputs": []
    },
    {
      "cell_type": "code",
      "source": [
        "X[0], y[0]"
      ],
      "metadata": {
        "id": "U1QyAxBvjY6c"
      },
      "execution_count": null,
      "outputs": []
    },
    {
      "cell_type": "code",
      "source": [
        "tf.random.set_seed(42)\n",
        "model_1 = tf.keras.Sequential([tf.keras.layers.Dense(1)])\n",
        "model_1.compile(loss = tf.keras.losses.BinaryCrossentropy(),\n",
        "#we use Binary as loss function,because we are working with 2 classes\n",
        "               optimizer = tf.keras.optimizers.SGD(), \n",
        "#SGD stands for Stochastic Gradient Descent\n",
        "                metrics = ['accuracy'])\n",
        "model_1.fit(X, y, epochs = 5)                            "
      ],
      "metadata": {
        "id": "xTKB_4fXjY3L"
      },
      "execution_count": null,
      "outputs": []
    },
    {
      "cell_type": "code",
      "source": [
        "model_1.fit(X, y, epochs = 200, verbose = 0) \n",
        "#we set verbose = 0 to remove training procedure )\n",
        "model_1.evaluate(X, y)"
      ],
      "metadata": {
        "id": "Yn6Olr90jYx2"
      },
      "execution_count": null,
      "outputs": []
    },
    {
      "cell_type": "code",
      "source": [
        "tf.random.set_seed(42)\n",
        "model_2 = tf.keras.Sequential([ tf.keras.layers.Dense(1),\n",
        "                               tf.keras.layers.Dense(1)\n",
        "])\n",
        "\n",
        "model_2.compile(loss = tf.keras.losses.BinaryCrossentropy(),\n",
        "                optimizer = tf.keras.optimizers.SGD(),\n",
        "                metrics = ['accuracy'])\n",
        "\n",
        "model_2.fit(X, y, epochs = 100, verbose = 0)"
      ],
      "metadata": {
        "id": "w0AHv9o4kFh_"
      },
      "execution_count": null,
      "outputs": []
    },
    {
      "cell_type": "code",
      "source": [
        "model_2.evaluate(X,y)"
      ],
      "metadata": {
        "id": "KmpLURr3jYsW"
      },
      "execution_count": null,
      "outputs": []
    },
    {
      "cell_type": "code",
      "source": [
        "tf.random.set_seed(42)\n",
        "model_3 = tf.keras.Sequential([\n",
        "  tf.keras.layers.Dense(100), # add 100 dense neurons\n",
        "  tf.keras.layers.Dense(10), # add another layer with 10 neurons\n",
        "  tf.keras.layers.Dense(1)\n",
        "])\n",
        "\n",
        "model_3.compile(loss=tf.keras.losses.BinaryCrossentropy(),\n",
        "                optimizer=tf.keras.optimizers.Adam(), \n",
        "                metrics=['accuracy'])\n",
        "model_3.fit(X, y, epochs=100, verbose=0)"
      ],
      "metadata": {
        "id": "vt49OnYzkZpD"
      },
      "execution_count": null,
      "outputs": []
    },
    {
      "cell_type": "code",
      "source": [
        "model_3.evaluate(X,y)"
      ],
      "metadata": {
        "id": "dmyyUjgrkZiU"
      },
      "execution_count": null,
      "outputs": []
    },
    {
      "cell_type": "code",
      "source": [
        "def plot_decision_boundary(model, X, y):\n",
        "  # Define the axis boundaries of the plot and create a meshgrid\n",
        "  x_min, x_max = X[:, 0].min() - 0.1, X[:, 0].max() + 0.1\n",
        "  y_min, y_max = X[:, 1].min() - 0.1, X[:, 1].max() + 0.1\n",
        "  xx, yy = np.meshgrid(np.linspace(x_min, x_max, 100),\n",
        "                       np.linspace(y_min, y_max, 100))\n",
        "  # Create X values (we're going to predict on all of these)\n",
        "  x_in = np.c_[xx.ravel(), yy.ravel()] \n",
        "  # Make predictions using the trained model\n",
        "  y_pred = model.predict(x_in)\n",
        "  # Check for multi-class"
      ],
      "metadata": {
        "id": "Xis_guFFkZfU"
      },
      "execution_count": null,
      "outputs": []
    },
    {
      "cell_type": "code",
      "source": [
        "if len(y_pred[0]) > 1:\n",
        "  print(\"doing multiclass classification...\")\n",
        "  # We have to reshape our predictions to get them ready for plotting\n",
        "  y_pred = np.argmax(y_pred, axis=1).reshape(xx.shape)\n",
        "else:\n",
        "  print(\"doing binary classifcation...\")\n",
        "  y_pred = np.round(y_pred).reshape(xx.shape)\n",
        "  # Plot decision boundary\n",
        "plt.contourf(xx, yy, y_pred, cmap=plt.cm.RdYlBu, alpha=0.7)\n",
        "plt.scatter(X[:, 0], X[:, 1], c=y, s=40, cmap=plt.cm.RdYlBu)\n",
        "plt.xlim(xx.min(), xx.max())\n",
        "plt.ylim(yy.min(), yy.max())\n",
        "\n",
        "plot_decision_boundary(model_3, X, y)"
      ],
      "metadata": {
        "id": "oCZfrqUtkZa4"
      },
      "execution_count": null,
      "outputs": []
    },
    {
      "cell_type": "markdown",
      "source": [
        "Activation Functions for Neural Networks"
      ],
      "metadata": {
        "id": "G4abFknlk68a"
      }
    },
    {
      "cell_type": "code",
      "source": [
        "A = tf.cast(tf.range(-12,12), tf.float32)\n",
        "print(A)\n",
        "plt.plot(A)"
      ],
      "metadata": {
        "id": "98_bdXhkjYjs"
      },
      "execution_count": null,
      "outputs": []
    },
    {
      "cell_type": "markdown",
      "source": [
        "Sigmoid"
      ],
      "metadata": {
        "id": "PolzDk1RlBsV"
      }
    },
    {
      "cell_type": "code",
      "source": [
        "def sigmoid(x):\n",
        "  return 1 / (1 + tf.exp(-x))\n",
        "sigmoid(A)\n",
        "plt.plot(sigmoid(A))"
      ],
      "metadata": {
        "id": "kmsgN2e_lBVX"
      },
      "execution_count": null,
      "outputs": []
    },
    {
      "cell_type": "markdown",
      "source": [
        "ReLu"
      ],
      "metadata": {
        "id": "i0eAUa-rlFdN"
      }
    },
    {
      "cell_type": "code",
      "source": [
        "def relu(x):\n",
        "  return tf.maximum(0,x)\n",
        "plt.plot(relu(A))"
      ],
      "metadata": {
        "id": "zR6yOAk1lBIH"
      },
      "execution_count": null,
      "outputs": []
    },
    {
      "cell_type": "code",
      "source": [
        "X_train, y_train = X[:800], y[:800]\n",
        "X_test, y_test = X[800:], y[800:]\n",
        "X_train.shape, X_test.shape"
      ],
      "metadata": {
        "id": "RS92Us_XlBBZ"
      },
      "execution_count": null,
      "outputs": []
    },
    {
      "cell_type": "code",
      "source": [
        "tf.random.set_seed(42)\n",
        "model_4 = tf.keras.Sequential([\n",
        "                               tf.keras.layers.Dense(4, activation = 'relu'), #we may right it \"tf.keras.activations.relu\" too\n",
        "                               tf.keras.layers.Dense(4, activation = 'relu'),\n",
        "                               tf.keras.layers.Dense(1, activation = 'sigmoid')\n",
        "])\n",
        "\n",
        "model_4.compile( loss= tf.keras.losses.binary_crossentropy,\n",
        "                optimizer = tf.keras.optimizers.Adam(lr = 0.01),\n",
        "                metrics = ['accuracy'])\n",
        "\n",
        "model_4.fit(X_train, y_train, epochs = 25, verbose = 0)"
      ],
      "metadata": {
        "id": "KAVEEC0nlA9i"
      },
      "execution_count": null,
      "outputs": []
    },
    {
      "cell_type": "code",
      "source": [
        "loss, accuracy = model_4.evaluate(X_test, y_test)\n",
        "print(f' Model loss on the test set: {loss}')\n",
        "print(f' Model accuracy on the test set: {100*accuracy}')"
      ],
      "metadata": {
        "id": "WYDR5pO3la9K"
      },
      "execution_count": null,
      "outputs": []
    },
    {
      "cell_type": "code",
      "source": [
        "plt.figure(figsize=(12, 6))\n",
        "plt.subplot(1, 2, 1)\n",
        "plt.title(\"Train\")\n",
        "plot_decision_boundary(model_4, X=X_train, y=y_train)\n",
        "plt.subplot(1, 2, 2)\n",
        "plt.title(\"Test\")\n",
        "plot_decision_boundary(model_4, X=X_test, y=y_test)\n",
        "plt.show()"
      ],
      "metadata": {
        "id": "vCVceks-la5N"
      },
      "execution_count": null,
      "outputs": []
    }
  ]
}